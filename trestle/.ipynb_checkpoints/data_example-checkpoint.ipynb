{
 "cells": [
  {
   "cell_type": "code",
   "execution_count": 2,
   "metadata": {},
   "outputs": [],
   "source": [
    "from concept_formation.trestle import TrestleTree\n",
    "from concept_formation.visualize import visualize\n",
    "from concept_formation.datasets import load_rb_s_07\n",
    "from concept_formation.preprocessor import ObjectVariablizer\n",
    "\n",
    "# loading sample data\n",
    "data = load_rb_s_07()"
   ]
  },
  {
   "cell_type": "code",
   "execution_count": 6,
   "metadata": {},
   "outputs": [
    {
     "data": {
      "text/plain": [
       "{u'_guid': u'660ac76d-93b3-4ce7-8a15-a3213e9103f5',\n",
       " u'component0': {u'b': 0.0,\n",
       "  u'l': 0.0,\n",
       "  u'r': 3.0,\n",
       "  u't': 1.0,\n",
       "  u'type': u'plat0'},\n",
       " u'component1': {u'b': 1.0,\n",
       "  u'l': 1.0,\n",
       "  u'r': 2.0,\n",
       "  u't': 4.0,\n",
       "  u'type': u'plat90'},\n",
       " u'component8': {u'b': 4.0,\n",
       "  u'l': 0.0,\n",
       "  u'r': 3.0,\n",
       "  u't': 5.0,\n",
       "  u'type': u'ufoo0'},\n",
       " u'success': u'0'}"
      ]
     },
     "execution_count": 6,
     "metadata": {},
     "output_type": "execute_result"
    }
   ],
   "source": [
    "data[0]"
   ]
  },
  {
   "cell_type": "code",
   "execution_count": 8,
   "metadata": {},
   "outputs": [
    {
     "data": {
      "text/plain": [
       "{u'_guid': u'a5096a31-b5a8-4c58-89f8-cca6f8e0eaf6',\n",
       " u'component0': {u'b': 0.0,\n",
       "  u'l': 0.0,\n",
       "  u'r': 3.0,\n",
       "  u't': 1.0,\n",
       "  u'type': u'plat0'},\n",
       " u'component1': {u'b': 1.0,\n",
       "  u'l': 1.0,\n",
       "  u'r': 2.0,\n",
       "  u't': 4.0,\n",
       "  u'type': u'plat90'},\n",
       " u'component8': {u'b': 4.0,\n",
       "  u'l': 0.0,\n",
       "  u'r': 3.0,\n",
       "  u't': 5.0,\n",
       "  u'type': u'ufoo0'},\n",
       " u'success': u'0'}"
      ]
     },
     "execution_count": 8,
     "metadata": {},
     "output_type": "execute_result"
    }
   ],
   "source": [
    "data[1]"
   ]
  },
  {
   "cell_type": "code",
   "execution_count": 7,
   "metadata": {},
   "outputs": [
    {
     "data": {
      "text/plain": [
       "141"
      ]
     },
     "execution_count": 7,
     "metadata": {},
     "output_type": "execute_result"
    }
   ],
   "source": [
    "len(data)"
   ]
  },
  {
   "cell_type": "code",
   "execution_count": null,
   "metadata": {},
   "outputs": [],
   "source": []
  }
 ],
 "metadata": {
  "kernelspec": {
   "display_name": "Python 2",
   "language": "python",
   "name": "python2"
  },
  "language_info": {
   "codemirror_mode": {
    "name": "ipython",
    "version": 2
   },
   "file_extension": ".py",
   "mimetype": "text/x-python",
   "name": "python",
   "nbconvert_exporter": "python",
   "pygments_lexer": "ipython2",
   "version": "2.7.12"
  }
 },
 "nbformat": 4,
 "nbformat_minor": 2
}
